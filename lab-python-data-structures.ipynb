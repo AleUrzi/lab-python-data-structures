{
 "cells": [
  {
   "cell_type": "markdown",
   "metadata": {
    "tags": []
   },
   "source": [
    "# Lab | Data Structures "
   ]
  },
  {
   "cell_type": "raw",
   "metadata": {},
   "source": [
    "As part of a business venture, you are starting an online store that sells various products. To ensure smooth operations, you need to develop a program that manages customer orders and inventory.\n",
    "\n",
    "Follow the steps below to complete the exercise:\n",
    "\n",
    "1. Define a list called products that contains the following items: \"t-shirt\", \"mug\", \"hat\", \"book\", \"keychain\".\n",
    "\n",
    "2. Create an empty dictionary called inventory.\n",
    "\n",
    "3. Ask the user to input the quantity of each product available in the inventory. Use the product names from the products list as keys in the inventory dictionary and assign the respective quantities as values.\n",
    "\n",
    "4. Create an empty set called customer_orders.\n",
    "\n",
    "5. Ask the user to input the name of three products that a customer wants to order (from those in the products list, meaning three products out of \"t-shirt\", \"mug\", \"hat\", \"book\" or \"keychain\". Add each product name to the customer_orders set.\n",
    "\n",
    "6. Print the products in the customer_orders set.\n",
    "\n",
    "7. Calculate the following order statistics:\n",
    "\n",
    "- Total Products Ordered: The total number of products in the customer_orders set.\n",
    "- Percentage of Products Ordered: The percentage of products ordered compared to the total available products.\n",
    "Store these statistics in a tuple called order_status.\n",
    "\n",
    "8. Print the order statistics using the following format:\n",
    "\n",
    "Order Statistics:\n",
    "Total Products Ordered: <total_products_ordered>\n",
    "Percentage of Products Ordered: <percentage_ordered>% \n",
    "\n",
    "9. Update the inventory by subtracting 1 from the quantity of each product. Modify the inventory dictionary accordingly.\n",
    "\n",
    "10. Print the updated inventory, displaying the quantity of each product on separate lines.\n",
    "\n",
    "Solve the exercise by implementing the steps using the Python concepts of lists, dictionaries, sets, and basic input/output operations."
   ]
  },
  {
   "cell_type": "code",
   "execution_count": 2,
   "metadata": {},
   "outputs": [],
   "source": [
    "# 1. Define a list called products:\n",
    "products = [\"t-shirt\", \"mug\", \"hat\", \"book\", \"keychain\"]"
   ]
  },
  {
   "cell_type": "code",
   "execution_count": 3,
   "metadata": {},
   "outputs": [],
   "source": [
    "# 2. Create an empty dictionary called `inventory`\n",
    "\n",
    "inventory = {}"
   ]
  },
  {
   "cell_type": "code",
   "execution_count": 22,
   "metadata": {},
   "outputs": [
    {
     "name": "stdin",
     "output_type": "stream",
     "text": [
      "What's the quantity of this t-shirt?  3\n",
      "What's the quantity of this mug?  5\n",
      "What's the quantity of this hat?  7\n",
      "What's the quantity of this book?  9\n",
      "What's the quantity of this keychain?  8\n"
     ]
    },
    {
     "name": "stdout",
     "output_type": "stream",
     "text": [
      "{'t-shirt': 3, 'mug': 5, 'hat': 7, 'book': 9, 'keychain': 8}\n",
      "32\n"
     ]
    }
   ],
   "source": [
    "# 3. Ask the user to input the quantity of each product available in the inventory. Use the product names from the `products` list as keys in the `inventory` dictionary and assign the respective quantities as values\n",
    "products = [\"t-shirt\", \"mug\", \"hat\", \"book\", \"keychain\"]\n",
    "\n",
    "inventory = {}\n",
    "total_available_products = 0\n",
    "\n",
    "for product in products:\n",
    "    quantity_item = int(input(f\"What's the quantity of this {product}? \"))\n",
    "    inventory[product] = quantity_item\n",
    "    total_available_products += quantity_item \n",
    "    \n",
    "print(inventory)\n",
    "print(total_available_products)"
   ]
  },
  {
   "cell_type": "code",
   "execution_count": 15,
   "metadata": {},
   "outputs": [],
   "source": [
    "#  Create an empty set called `customer_orders`\n",
    "\n",
    "customer_orders = set()"
   ]
  },
  {
   "cell_type": "code",
   "execution_count": 5,
   "metadata": {},
   "outputs": [
    {
     "name": "stdin",
     "output_type": "stream",
     "text": [
      "Enter the name of a product you want to order (choose from t-shirt, mug, hat, book, keychain):  mug\n",
      "Enter the name of a product you want to order (choose from t-shirt, mug, hat, book, keychain):  hat\n",
      "Enter the name of a product you want to order (choose from t-shirt, mug, hat, book, keychain):  book\n"
     ]
    },
    {
     "name": "stdout",
     "output_type": "stream",
     "text": [
      "{'book', 'hat', 'mug'}\n"
     ]
    }
   ],
   "source": [
    "# 5. Ask the user to input the name of three products that a customer wants to order (from those in the products list, meaning three products out of \"t-shirt\", \"mug\", \"hat\", \"book\" or \"keychain\". Add each product name to the `customer_orders` set\n",
    "products = [\"t-shirt\", \"mug\", \"hat\", \"book\", \"keychain\"]\n",
    "customer_orders = set()\n",
    "\n",
    "for i in range(3):\n",
    "    product = input(\"Enter the name of a product you want to order (choose from t-shirt, mug, hat, book, keychain): \")\n",
    "    \n",
    "    while product not in products:\n",
    "        print(input(\"Please choose from t-shirt, mug, hat, book, keychain: \"))\n",
    "\n",
    "    customer_orders.add(product)\n",
    "\n",
    "print(customer_orders)"
   ]
  },
  {
   "cell_type": "code",
   "execution_count": 24,
   "metadata": {},
   "outputs": [
    {
     "name": "stdout",
     "output_type": "stream",
     "text": [
      "{'mug', 'book', 'hat'}\n"
     ]
    }
   ],
   "source": [
    "# 6. Print the products in the `customer_orders` set\n",
    "\n",
    "print(customer_orders)"
   ]
  },
  {
   "cell_type": "code",
   "execution_count": 6,
   "metadata": {},
   "outputs": [
    {
     "name": "stdin",
     "output_type": "stream",
     "text": [
      "How many do you want to order for book?  1\n",
      "How many do you want to order for hat?  2\n",
      "How many do you want to order for mug?  3\n"
     ]
    },
    {
     "name": "stdout",
     "output_type": "stream",
     "text": [
      "The total is: 6\n"
     ]
    }
   ],
   "source": [
    "#7. Calculate the following order statistics:\n",
    "   #- Total Products Ordered: The total number of products in the `customer_orders` set.\n",
    "\n",
    "customer_orders = {'mug', 'book', 'hat'}\n",
    "total_ordered_products = 0\n",
    "\n",
    "for order in customer_orders:\n",
    "    quantity = int(input(f\"How many do you want to order for {order}? \"))\n",
    "    total_ordered_products += quantity\n",
    "    \n",
    "print(f\"The total is: {total_ordered_products}\")"
   ]
  },
  {
   "cell_type": "code",
   "execution_count": 15,
   "metadata": {},
   "outputs": [
    {
     "name": "stdout",
     "output_type": "stream",
     "text": [
      "18.75\n"
     ]
    }
   ],
   "source": [
    "#- Percentage of Products Ordered: The percentage of products ordered compared to the total available products.\n",
    "\n",
    "def percentage(total_ordered_products, total_available_products):\n",
    "    percentage_prod = (total_ordered_products/total_available_products)*100\n",
    "    return percentage_prod\n",
    "\n",
    "percentage_prod = percentage(total_ordered_products, total_available_products)\n",
    "print(percentage_prod)"
   ]
  },
  {
   "cell_type": "code",
   "execution_count": 13,
   "metadata": {},
   "outputs": [],
   "source": [
    "# Store these statistics in a tuple called `order_status`.\n",
    "\n",
    "order_status = (total_ordered_products, percentage_prod)"
   ]
  },
  {
   "cell_type": "code",
   "execution_count": 19,
   "metadata": {
    "tags": []
   },
   "outputs": [
    {
     "name": "stdout",
     "output_type": "stream",
     "text": [
      "(6, 18.75)\n"
     ]
    }
   ],
   "source": [
    "#8. Print the order statistics using the following format:\n",
    "\n",
    "#Order Statistics:\n",
    "#Total Products Ordered: <total_products_ordered>\n",
    "#Percentage of Products Ordered: <percentage_ordered>% \n",
    "\n",
    "order_status = (total_ordered_products, percentage_prod)\n",
    "\n",
    "total_products_ordered = total_ordered_products\n",
    "percentage_prod = percentage_prod\n",
    "\n",
    "print(order_status)\n"
   ]
  },
  {
   "cell_type": "code",
   "execution_count": 26,
   "metadata": {
    "tags": []
   },
   "outputs": [
    {
     "name": "stdin",
     "output_type": "stream",
     "text": [
      "What's the quantity of this t-shirt?  3\n",
      "What's the quantity of this mug?  5\n",
      "What's the quantity of this hat?  7\n",
      "What's the quantity of this book?  8\n",
      "What's the quantity of this keychain?  9\n"
     ]
    },
    {
     "name": "stdout",
     "output_type": "stream",
     "text": [
      "{'t-shirt': 2, 'mug': 4, 'hat': 6, 'book': 7, 'keychain': 8}\n"
     ]
    }
   ],
   "source": [
    "# 9. Update the inventory by subtracting 1 from the quantity of each product. Modify the inventory dictionary accordingly.\n",
    "\n",
    "products = [\"t-shirt\", \"mug\", \"hat\", \"book\", \"keychain\"]\n",
    "\n",
    "inventory = {}\n",
    "\n",
    "\n",
    "for product in products:\n",
    "    quantity_item = int(input(f\"What's the quantity of this {product}? \"))\n",
    "    inventory[product] = quantity_item - 1\n",
    " \n",
    "\n",
    "\n",
    "print(inventory)\n"
   ]
  },
  {
   "cell_type": "code",
   "execution_count": 36,
   "metadata": {
    "tags": []
   },
   "outputs": [
    {
     "name": "stdout",
     "output_type": "stream",
     "text": [
      "t-shirt:2\n",
      "mug:4\n",
      "hat:6\n",
      "book:7\n",
      "keychain:8\n"
     ]
    }
   ],
   "source": [
    "# 10. Print the updated inventory, displaying the quantity of each product on separate lines.\n",
    "\n",
    "for key, value in inventory.items():\n",
    "    print(f\"{key}:{value}\")"
   ]
  },
  {
   "cell_type": "code",
   "execution_count": null,
   "metadata": {},
   "outputs": [],
   "source": []
  }
 ],
 "metadata": {
  "kernelspec": {
   "display_name": "Python 3 (ipykernel)",
   "language": "python",
   "name": "python3"
  },
  "language_info": {
   "codemirror_mode": {
    "name": "ipython",
    "version": 3
   },
   "file_extension": ".py",
   "mimetype": "text/x-python",
   "name": "python",
   "nbconvert_exporter": "python",
   "pygments_lexer": "ipython3",
   "version": "3.11.4"
  }
 },
 "nbformat": 4,
 "nbformat_minor": 4
}
